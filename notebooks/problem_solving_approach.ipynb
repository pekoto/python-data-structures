{
 "cells": [
  {
   "cell_type": "markdown",
   "id": "2a7fc7fa-0de0-4f1a-8095-db6cb98f0035",
   "metadata": {},
   "source": [
    "# Problem Solving Approach"
   ]
  },
  {
   "cell_type": "markdown",
   "id": "d9a59a18-7d49-46fd-b300-10351ce13517",
   "metadata": {},
   "source": [
    "## Greedy vs. DP\n",
    "\n",
    "### The Greedy Approach\n",
    "\n",
    "* Builds up a solution piece-by-piece, choosing the next locally optimal option.\n",
    "* Requires a problem where choosing the locally optimal solution also leads to the a globally optimal solution (optimal substructure property).\n",
    "* Non-overlapping subproblems.\n",
    "* Example: Shortest path problem (Dijkstra's algorithm)\n",
    "\n",
    "### The DP approach\n",
    "\n",
    "* An optimization over plain recursion.\n",
    "* When we see a recursive solution that has repeated calls for the same input, we can cache some of these results so they don't have to be recomputed later.\n",
    "* Optimal substructure.\n",
    "* Overlapping subproblems.\n",
    "* Example: knapsack problem.\n",
    "\n",
    "### Greedy vs. DP\n",
    "\n",
    "| Greedy      | DP |\n",
    "| ----------- | ----------- |\n",
    "| Make choice that seems optimal at the moment      | Make choice based on current solution and solution to previously solved sub-problem       |\n",
    "\n",
    "Local optimality does not always lead to global optimality -- such as in the knapsack problem. This is where DP is more useful."
   ]
  }
 ],
 "metadata": {
  "kernelspec": {
   "display_name": "Python 3 (ipykernel)",
   "language": "python",
   "name": "python3"
  },
  "language_info": {
   "codemirror_mode": {
    "name": "ipython",
    "version": 3
   },
   "file_extension": ".py",
   "mimetype": "text/x-python",
   "name": "python",
   "nbconvert_exporter": "python",
   "pygments_lexer": "ipython3",
   "version": "3.10.7"
  }
 },
 "nbformat": 4,
 "nbformat_minor": 5
}
