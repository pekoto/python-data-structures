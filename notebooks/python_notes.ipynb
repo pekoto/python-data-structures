{
 "cells": [
  {
   "cell_type": "markdown",
   "id": "4bd1ab42-2cef-498f-9f94-76ad73328338",
   "metadata": {},
   "source": [
    "# Python Notes"
   ]
  },
  {
   "cell_type": "code",
   "execution_count": null,
   "id": "2deb724d-0706-46c1-b32c-b1b601264422",
   "metadata": {},
   "outputs": [],
   "source": []
  }
 ],
 "metadata": {
  "kernelspec": {
   "display_name": "Python 3 (ipykernel)",
   "language": "python",
   "name": "python3"
  },
  "language_info": {
   "codemirror_mode": {
    "name": "ipython",
    "version": 3
   },
   "file_extension": ".py",
   "mimetype": "text/x-python",
   "name": "python",
   "nbconvert_exporter": "python",
   "pygments_lexer": "ipython3",
   "version": "3.10.7"
  }
 },
 "nbformat": 4,
 "nbformat_minor": 5
}
